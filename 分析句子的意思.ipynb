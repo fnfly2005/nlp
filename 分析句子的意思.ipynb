{
 "cells": [
  {
   "cell_type": "markdown",
   "metadata": {},
   "source": [
    "# 自然语言理解"
   ]
  },
  {
   "cell_type": "code",
   "execution_count": 1,
   "metadata": {
    "scrolled": true
   },
   "outputs": [
    {
     "name": "stdout",
     "output_type": "stream",
     "text": [
      "% start S\n",
      "S[SEM=(?np + WHERE + ?vp)] -> NP[SEM=?np] VP[SEM=?vp]\n",
      "VP[SEM=(?v + ?pp)] -> IV[SEM=?v] PP[SEM=?pp]\n",
      "VP[SEM=(?v + ?ap)] -> IV[SEM=?v] AP[SEM=?ap]\n",
      "NP[SEM=(?det + ?n)] -> Det[SEM=?det] N[SEM=?n]\n",
      "PP[SEM=(?p + ?np)] -> P[SEM=?p] NP[SEM=?np]\n",
      "AP[SEM=?pp] -> A[SEM=?a] PP[SEM=?pp]\n",
      "NP[SEM='Country=\"greece\"'] -> 'Greece'\n",
      "NP[SEM='Country=\"china\"'] -> 'China'\n",
      "Det[SEM='SELECT'] -> 'Which' | 'What'\n",
      "N[SEM='City FROM city_table'] -> 'cities'\n",
      "IV[SEM=''] -> 'are'\n",
      "A[SEM=''] -> 'located'\n",
      "P[SEM=''] -> 'in'\n"
     ]
    }
   ],
   "source": [
    "import nltk\n",
    "nltk.data.show_cfg('grammars/book_grammars/sql0.fcfg')"
   ]
  },
  {
   "cell_type": "code",
   "execution_count": 2,
   "metadata": {},
   "outputs": [
    {
     "name": "stdout",
     "output_type": "stream",
     "text": [
      "SELECT City FROM city_table WHERE   Country=\"china\"\n",
      "canton\n",
      "chungking\n",
      "dairen\n",
      "harbin\n",
      "kowloon\n",
      "mukden\n",
      "peking\n",
      "shanghai\n",
      "sian\n",
      "tientsin\n"
     ]
    }
   ],
   "source": [
    "from nltk import load_parser\n",
    "cp = load_parser('grammars/book_grammars/sql0.fcfg')\n",
    "query = 'What cities are located in China'\n",
    "trees = cp.parse(query.split())\n",
    "for tree in trees:\n",
    "    answer=tree.label()['SEM']\n",
    "\n",
    "q = ' '.join(answer)\n",
    "print (q)\n",
    "from nltk.sem import chat80\n",
    "rows = chat80.sql_query('corpora/city_database/city.db', q)\n",
    "for r in rows:\n",
    "    print (r[0])"
   ]
  },
  {
   "cell_type": "markdown",
   "metadata": {},
   "source": [
    "# 命题逻辑"
   ]
  },
  {
   "cell_type": "code",
   "execution_count": 13,
   "metadata": {},
   "outputs": [
    {
     "name": "stdout",
     "output_type": "stream",
     "text": [
      "negation       \t-\n",
      "conjunction    \t&\n",
      "disjunction    \t|\n",
      "implication    \t->\n",
      "equivalence    \t<->\n"
     ]
    }
   ],
   "source": [
    "nltk.boolean_ops()"
   ]
  },
  {
   "cell_type": "code",
   "execution_count": 34,
   "metadata": {},
   "outputs": [
    {
     "name": "stdout",
     "output_type": "stream",
     "text": [
      "True\n",
      "True\n",
      "False\n",
      "False\n",
      "True\n"
     ]
    }
   ],
   "source": [
    "lp = nltk.sem.logic.LogicParser()\n",
    "lp.parse('-( P & Q)')#<NegatedExpression -(P & Q)>\n",
    "lp.parse('P & Q')#<AndExpression (P & Q)>\n",
    "lp.parse('P | (R -> Q)')#<OrExpression (P | (R -> Q))>\n",
    "lp.parse('P <-> -- P')#<IffExpression (P <-> --P)>\n",
    "SnF = lp.parse('SnF')\n",
    "NotFnS = lp.parse('-FnS')\n",
    "R = lp.parse('SnF -> -FnS')\n",
    "val = nltk.Valuation([('P',True),('Q',True),('R',False)])\n",
    "print(val['P'])\n",
    "dom=set([])\n",
    "g = nltk.Assignment(dom)\n",
    "m = nltk.Model(dom,val)\n",
    "print(m.evaluate('(P & Q)',g))\n",
    "print(m.evaluate('-(P & Q)',g))\n",
    "print(m.evaluate('(P & R)',g))\n",
    "print(m.evaluate('(P | R)',g))"
   ]
  }
 ],
 "metadata": {
  "kernelspec": {
   "display_name": "Python 3",
   "language": "python",
   "name": "python3"
  },
  "language_info": {
   "codemirror_mode": {
    "name": "ipython",
    "version": 3
   },
   "file_extension": ".py",
   "mimetype": "text/x-python",
   "name": "python",
   "nbconvert_exporter": "python",
   "pygments_lexer": "ipython3",
   "version": "3.7.1"
  }
 },
 "nbformat": 4,
 "nbformat_minor": 2
}
