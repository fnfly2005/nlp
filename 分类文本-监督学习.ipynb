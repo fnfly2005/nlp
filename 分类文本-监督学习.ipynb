{
 "cells": [
  {
   "cell_type": "markdown",
   "metadata": {},
   "source": [
    "# 鉴定性别"
   ]
  },
  {
   "cell_type": "code",
   "execution_count": 31,
   "metadata": {},
   "outputs": [
    {
     "name": "stdout",
     "output_type": "stream",
     "text": [
      "male\n",
      "0.75\n",
      "Most Informative Features\n",
      "             last_letter = 'a'            female : male   =     36.9 : 1.0\n",
      "             last_letter = 'k'              male : female =     31.4 : 1.0\n",
      "             last_letter = 'f'              male : female =     16.0 : 1.0\n",
      "             last_letter = 'p'              male : female =     12.6 : 1.0\n",
      "             last_letter = 'd'              male : female =     10.0 : 1.0\n",
      "None\n"
     ]
    }
   ],
   "source": [
    "import nltk\n",
    "from nltk.corpus import names\n",
    "import random\n",
    "from nltk.classify import apply_features\n",
    "from nltk.classify.naivebayes import NaiveBayesClassifier \n",
    "from nltk.classify import accuracy\n",
    "\n",
    "def gender_features(word):\n",
    "    '''特征提取器'''\n",
    "    return {'last_letter': word[-1]}\n",
    "\n",
    "names = ([(name,'male') for name in names.words('male.txt')] +\n",
    "        [(name,'female') for name in names.words('female.txt')])\n",
    "\n",
    "random.shuffle(names)\n",
    "\n",
    "train_set = apply_features(gender_features,names[500:])\n",
    "test_set = apply_features(gender_features,names[:500])\n",
    "\n",
    "classifier = NaiveBayesClassifier.train(train_set) #训练朴素贝叶斯分类器\n",
    "\n",
    "print (classifier.classify(gender_features('Neo'))) #获取单个姓名预测值\n",
    "print (accuracy(classifier, test_set)) #获取准确率\n",
    "print (classifier.show_most_informative_features(5)) #查看最有效的5个特征-似然比"
   ]
  },
  {
   "cell_type": "markdown",
   "metadata": {},
   "source": [
    "# 选择正确的特征"
   ]
  },
  {
   "cell_type": "code",
   "execution_count": 32,
   "metadata": {},
   "outputs": [
    {
     "name": "stdout",
     "output_type": "stream",
     "text": [
      "0.79\n"
     ]
    }
   ],
   "source": [
    "def gender_features2(word):\n",
    "    return {'last_letter1': word[-1:],\n",
    "           'last_letter2': word[-2:]}\n",
    "\n",
    "train_set2 = apply_features(gender_features2,names[500:])\n",
    "test_set2 = apply_features(gender_features2,names[:500])\n",
    "\n",
    "classifier2 = NaiveBayesClassifier.train(train_set2) #训练朴素贝叶斯分类器\n",
    "\n",
    "print (accuracy(classifier2, test_set2)) #获取准确率"
   ]
  },
  {
   "cell_type": "markdown",
   "metadata": {},
   "source": [
    "# 文档分类"
   ]
  },
  {
   "cell_type": "code",
   "execution_count": 35,
   "metadata": {},
   "outputs": [],
   "source": [
    "#电影评论正负面分类任务\n",
    "from nltk.corpus import movie_reviews\n",
    "import random\n",
    "documents = [(list(movie_reviews.words(fileid)), category)\n",
    "             for category in movie_reviews.categories()\n",
    "             for fileid in movie_reviews.fileids(category)]\n",
    "random.shuffle(documents)\n",
    "\n",
    "all_words = nltk.FreqDist(w.lower() for w in movie_reviews.words())\n",
    "word_features = list(all_words.keys())[:2000]\n",
    "def document_features(document):\n",
    "    '''特征提取器，用于提取前2000个高频词汇'''\n",
    "    document_words = set(document)\n",
    "    features = {}\n",
    "    for word in word_features:\n",
    "        features['contains(%s)' % word] = (word in document_words)\n",
    "    return features\n",
    "\n",
    "featuresets = [(document_features(d), c) for (d,c) in documents]\n",
    "train_set3, test_set3 = featuresets[100:], featuresets[:100]\n",
    "classifier3 = NaiveBayesClassifier.train(train_set3)\n",
    "print (accuracy(classifier3, test_set3))"
   ]
  },
  {
   "cell_type": "code",
   "execution_count": 57,
   "metadata": {},
   "outputs": [],
   "source": [
    "#基于后缀训练词性分类器\n",
    "from nltk.corpus import brown\n",
    "from nltk.classify.decisiontree import DecisionTreeClassifier\n",
    "suffix_fdist = nltk.FreqDist()\n",
    "for word in brown.words():\n",
    "    word = word.lower()\n",
    "    suffix_fdist[word[-1:]] +=1\n",
    "    suffix_fdist[word[-2:]] +=1\n",
    "    suffix_fdist[word[-3:]] +=1\n",
    "common_suffixes = list(suffix_fdist.keys())[:100]\n",
    "\n",
    "def pos_features(word):\n",
    "    features = {}\n",
    "    for suffix in common_suffixes:\n",
    "        features['endswith(%s)' % suffix] = word.lower().endswith(suffix)\n",
    "    return features\n",
    "\n",
    "tagged_words = brown.tagged_words(categories='news')\n",
    "featuresets2 = [(pos_features(n), g) for (n,g) in tagged_words]\n",
    "size = int(len(featuresets2) * 0.02)\n",
    "size2 = int(len(featuresets2) * 0.1)\n",
    "train_set4, test_set4 = featuresets2[size:size2], featuresets2[:size]"
   ]
  },
  {
   "cell_type": "code",
   "execution_count": 59,
   "metadata": {},
   "outputs": [
    {
     "name": "stdout",
     "output_type": "stream",
     "text": [
      "0.5952262555942317\n",
      "if endswith(the) == False: \n",
      "  if endswith(s) == False: \n",
      "    if endswith(,) == False: \n",
      "      if endswith(.) == False: return 'IN'\n",
      "      if endswith(.) == True: return '.'\n",
      "    if endswith(,) == True: return ','\n",
      "  if endswith(s) == True: \n",
      "    if endswith(was) == False: \n",
      "      if endswith(as) == False: return 'NNS'\n",
      "      if endswith(as) == True: return 'HVZ'\n",
      "    if endswith(was) == True: return 'BEDZ'\n",
      "if endswith(the) == True: return 'AT'\n",
      "\n"
     ]
    }
   ],
   "source": [
    "classifier4 = DecisionTreeClassifier.train(train_set4)\n",
    "print(accuracy(classifier4, test_set4))\n",
    "print(classifier4.pseudocode(depth=4))#伪代码解释器"
   ]
  },
  {
   "cell_type": "code",
   "execution_count": null,
   "metadata": {},
   "outputs": [],
   "source": [
    "探索上下文语境"
   ]
  }
 ],
 "metadata": {
  "kernelspec": {
   "display_name": "Python 3",
   "language": "python",
   "name": "python3"
  },
  "language_info": {
   "codemirror_mode": {
    "name": "ipython",
    "version": 3
   },
   "file_extension": ".py",
   "mimetype": "text/x-python",
   "name": "python",
   "nbconvert_exporter": "python",
   "pygments_lexer": "ipython3",
   "version": "3.7.1"
  }
 },
 "nbformat": 4,
 "nbformat_minor": 2
}
