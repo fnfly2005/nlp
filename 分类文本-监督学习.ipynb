{
 "cells": [
  {
   "cell_type": "markdown",
   "metadata": {},
   "source": [
    "# 鉴定性别"
   ]
  },
  {
   "cell_type": "code",
   "execution_count": 7,
   "metadata": {},
   "outputs": [
    {
     "name": "stdout",
     "output_type": "stream",
     "text": [
      "male\n",
      "0.794\n",
      "Most Informative Features\n",
      "             last_letter = 'a'            female : male   =     33.0 : 1.0\n",
      "             last_letter = 'k'              male : female =     28.8 : 1.0\n",
      "             last_letter = 'f'              male : female =     26.5 : 1.0\n",
      "             last_letter = 'p'              male : female =     11.9 : 1.0\n",
      "             last_letter = 'v'              male : female =      9.8 : 1.0\n",
      "None\n"
     ]
    }
   ],
   "source": [
    "import nltk\n",
    "from nltk.corpus import names\n",
    "import random\n",
    "from nltk.classify import apply_features\n",
    "from nltk.classify.naivebayes import NaiveBayesClassifier \n",
    "from nltk.classify import accuracy\n",
    "\n",
    "def gender_features(word):\n",
    "    '''特征提取器'''\n",
    "    return {'last_letter': word[-1]}\n",
    "\n",
    "names = ([(name,'male') for name in names.words('male.txt')] +\n",
    "        [(name,'female') for name in names.words('female.txt')])\n",
    "\n",
    "random.shuffle(names)\n",
    "\n",
    "train_set = apply_features(gender_features,names[500:])\n",
    "test_set = apply_features(gender_features,names[:500])\n",
    "\n",
    "classifier = NaiveBayesClassifier.train(train_set) #训练朴素贝叶斯分类器\n",
    "\n",
    "print (classifier.classify(gender_features('Neo'))) #获取单个姓名预测值\n",
    "print (accuracy(classifier, test_set)) #获取准确率\n",
    "print (classifier.show_most_informative_features(5)) #查看最有效的5个特征-似然比"
   ]
  }
 ],
 "metadata": {
  "kernelspec": {
   "display_name": "Python 3",
   "language": "python",
   "name": "python3"
  },
  "language_info": {
   "codemirror_mode": {
    "name": "ipython",
    "version": 3
   },
   "file_extension": ".py",
   "mimetype": "text/x-python",
   "name": "python",
   "nbconvert_exporter": "python",
   "pygments_lexer": "ipython3",
   "version": "3.7.1"
  }
 },
 "nbformat": 4,
 "nbformat_minor": 2
}
