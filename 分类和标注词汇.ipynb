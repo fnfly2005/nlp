{
 "cells": [
  {
   "cell_type": "markdown",
   "metadata": {},
   "source": [
    "# 词性标注器"
   ]
  },
  {
   "cell_type": "code",
   "execution_count": 1,
   "metadata": {},
   "outputs": [
    {
     "name": "stdout",
     "output_type": "stream",
     "text": [
      "[('And', 'CC'), ('now', 'RB'), ('for', 'IN'), ('something', 'NN'), ('completely', 'RB'), ('different', 'JJ')]\n",
      "RB: adverb\n",
      "    occasionally unabatingly maddeningly adventurously professedly\n",
      "    stirringly prominently technologically magisterially predominately\n",
      "    swiftly fiscally pitilessly ...\n"
     ]
    }
   ],
   "source": [
    "import nltk\n",
    "text = nltk.word_tokenize(\"And now for something completely different\")\n",
    "print(nltk.pos_tag(text))\n",
    "nltk.help.upenn_tagset('RB')"
   ]
  },
  {
   "cell_type": "markdown",
   "metadata": {},
   "source": [
    "# 标注语料库-表示已标注的标识符"
   ]
  },
  {
   "cell_type": "code",
   "execution_count": 2,
   "metadata": {},
   "outputs": [
    {
     "name": "stdout",
     "output_type": "stream",
     "text": [
      "NN\n",
      "[('The', 'AT'), ('grand', 'JJ'), ('jury', 'NN'), ('commented', 'VBD'), ('on', 'IN')]\n"
     ]
    }
   ],
   "source": [
    "tagged_token = nltk.tag.util.str2tuple('fly/NN')#由词性标注字符串构建元组\n",
    "print(tagged_token[1])\n",
    "sent = '''The/AT grand/JJ jury/NN commented/VBD on/IN'''\n",
    "print([nltk.tag.util.str2tuple(t) for t in sent.split()])"
   ]
  },
  {
   "cell_type": "markdown",
   "metadata": {},
   "source": [
    "# 标注语料库-读取已标注的语料库\n",
    "\n",
    "ADJ 形容词 new, good, high, special, big, local\n",
    "\n",
    "ADV 动词 really, already, still, early, now\n",
    "\n",
    "CNJ 连词 and, or, but, if, while, although\n",
    "\n",
    "DET 限定词 the, a, some, most, every, no\n",
    "\n",
    "EX 存在量词 there, there's\n",
    "\n",
    "FW 外来词 dolce, ersatz, esprit, quo, maitre\n",
    "\n",
    "MOD 情态动词 will, can, would, may, must, should\n",
    "\n",
    "N 名词 year, home, costs, time, education\n",
    "\n",
    "NP 专有名词 Alison, Africa, April, Washington\n",
    "\n",
    "NUM 数词 twenty-four, fourth, 1991, 14:24\n",
    "\n",
    "PRO 代词 he, their, her, its, my, I, us\n",
    "\n",
    "P 介词 on, of, at, with, by, into, under\n",
    "\n",
    "TO 词 to to\n",
    "\n",
    "UH 感叹词 ah, bang, ha, whee, hmpf, oops\n",
    "\n",
    "V 动词 is, has, get, do, make, see, run\n",
    "\n",
    "VD 过去式 said, took, told, made, asked\n",
    "\n",
    "VG 现在分词 making, going, playing, working\n",
    "\n",
    "VN 过去分词 given, taken, begun, sung\n",
    "\n",
    "WH Wh 限定词 who, which, when, what, where, how"
   ]
  },
  {
   "cell_type": "code",
   "execution_count": 3,
   "metadata": {},
   "outputs": [
    {
     "name": "stdout",
     "output_type": "stream",
     "text": [
      "[('The', 'DET'), ('Fulton', 'NOUN'), ...]\n",
      "dict_keys(['DET', 'NOUN', 'ADJ', 'VERB', 'ADP', '.', 'ADV', 'CONJ', 'PRT', 'PRON', 'NUM', 'X'])\n"
     ]
    },
    {
     "data": {
      "text/plain": [
       "<Figure size 640x480 with 1 Axes>"
      ]
     },
     "metadata": {},
     "output_type": "display_data"
    }
   ],
   "source": [
    "from nltk.corpus import brown\n",
    "from matplotlib import pyplot as plt\n",
    "print(brown.tagged_words(tagset='universal'))\n",
    "brown_news_tagged = brown.tagged_words(categories='news', tagset='universal')\n",
    "tag_fd = nltk.FreqDist(tag for (word, tag) in brown_news_tagged)\n",
    "print(tag_fd.keys())\n",
    "tag_fd.plot(cumulative=True)"
   ]
  },
  {
   "cell_type": "markdown",
   "metadata": {},
   "source": [
    "# 标注语料库-名词\n",
    "名词出现在限定词和形容词之后，包括数字形容词(数词，标注为 N U M )。"
   ]
  },
  {
   "cell_type": "code",
   "execution_count": 4,
   "metadata": {},
   "outputs": [
    {
     "data": {
      "text/plain": [
       "['DET',\n",
       " 'NOUN',\n",
       " 'ADJ',\n",
       " 'VERB',\n",
       " 'ADP',\n",
       " 'CONJ',\n",
       " '.',\n",
       " 'NUM',\n",
       " 'ADV',\n",
       " 'PRT',\n",
       " 'X',\n",
       " 'PRON']"
      ]
     },
     "execution_count": 4,
     "metadata": {},
     "output_type": "execute_result"
    }
   ],
   "source": [
    "word_tag_pairs = nltk.bigrams(brown_news_tagged)\n",
    "list(nltk.FreqDist(a[1] for (a, b) in word_tag_pairs if b[1] == 'NOUN'))"
   ]
  },
  {
   "cell_type": "markdown",
   "metadata": {},
   "source": [
    "# 标注语料库-动词\n",
    "\n",
    "按频率排序所有动词"
   ]
  },
  {
   "cell_type": "code",
   "execution_count": 12,
   "metadata": {},
   "outputs": [
    {
     "name": "stdout",
     "output_type": "stream",
     "text": [
      "['said/VERB', 'produced/VERB', 'took/VERB', 'had/VERB', 'deserves/VERB', 'was/VERB', 'conducted/VERB', 'been/VERB', 'charged/VERB', 'investigate/VERB']\n",
      "dict_keys(['VERB', 'NOUN'])\n"
     ]
    }
   ],
   "source": [
    "wsj = brown.tagged_words(categories='news',tagset='universal')\n",
    "word_tag_fd=nltk.FreqDist(wsj)\n",
    "vword=[word + \"/\" + tag for (word, tag) in word_tag_fd if tag.startswith('V')]\n",
    "print (vword[:10])\n",
    "cfd1=nltk.ConditionalFreqDist(wsj)\n",
    "print (cfd1['yield'].keys())"
   ]
  },
  {
   "cell_type": "markdown",
   "metadata": {},
   "source": [
    "# 标注语料库-未简化的标记\n",
    "\n",
    "找出最频繁的名词标记的程序"
   ]
  },
  {
   "cell_type": "code",
   "execution_count": 30,
   "metadata": {},
   "outputs": [
    {
     "name": "stdout",
     "output_type": "stream",
     "text": [
      "NN ['investigation', 'primary', 'election', 'evidence', 'place']\n",
      "NN$ [\"ordinary's\", \"court's\", \"mayor's\", \"wife's\", \"governor's\"]\n",
      "NN$-HL [\"Golf's\", \"Navy's\"]\n",
      "NN$-TL [\"Department's\", \"Commissioner's\", \"President's\", \"Party's\", \"Mayor's\"]\n",
      "NN-HL ['Merger', 'jail', 'Construction', 'fund', 'sp.']\n",
      "NN-NC ['ova', 'eva', 'aya']\n",
      "NN-TL ['County', 'Jury', 'City', 'Committee', 'Court']\n",
      "NN-TL-HL ['Mayor', 'Commissioner', 'City', 'Oak', 'Grove']\n",
      "NNS ['irregularities', 'presentments', 'thanks', 'reports', 'voters']\n",
      "NNS$ [\"taxpayers'\", \"children's\", \"members'\", \"women's\", \"years'\"]\n"
     ]
    }
   ],
   "source": [
    "def findtags(tag_prefix, tagged_text):\n",
    "    cfd = nltk.ConditionalFreqDist((tag, word) for (word, tag) in tagged_text \\\n",
    "                                   if tag.startswith(tag_prefix))\n",
    "    return dict((tag,list(cfd[tag].keys())[:5]) for tag in cfd.conditions())\n",
    "\n",
    "tagdict = findtags('N', brown.tagged_words(categories='news'))\n",
    "n = 0\n",
    "for tag in sorted(tagdict):\n",
    "    print(tag,tagdict[tag])\n",
    "    n=n+1\n",
    "    if n==10:\n",
    "        break"
   ]
  },
  {
   "cell_type": "markdown",
   "metadata": {},
   "source": [
    "# 标注语料库-已标注的语料库\n",
    "\n",
    "假设我们正在研究词 often，想看看它是如何在文本中使用的。我们可以试着看看跟在 often 后面的词汇\n",
    "\n",
    "请注意 often 后面最高频率的词性是动词。名词从来没有在这个位置出现"
   ]
  },
  {
   "cell_type": "code",
   "execution_count": 36,
   "metadata": {},
   "outputs": [
    {
     "name": "stdout",
     "output_type": "stream",
     "text": [
      "VERB  ADV  ADP  ADJ    .  PRT \n",
      "  37    8    7    6    4    2 \n"
     ]
    }
   ],
   "source": [
    "brown_learned_text = brown.tagged_words(categories='learned',tagset='universal')\n",
    "tags=[b[1] for (a, b) in nltk.bigrams(brown_learned_text) if a[0] == 'often']\n",
    "fd = nltk.FreqDist(tags)\n",
    "fd.tabulate()"
   ]
  },
  {
   "cell_type": "code",
   "execution_count": 40,
   "metadata": {},
   "outputs": [
    {
     "name": "stdout",
     "output_type": "stream",
     "text": [
      "combined to achieve\n",
      "continue to place\n",
      "serve to protect\n",
      "wanted to wait\n",
      "allowed to place\n",
      "expected to become\n",
      "expected to approve\n",
      "expected to make\n",
      "intends to make\n",
      "seek to set\n",
      "like to see\n"
     ]
    }
   ],
   "source": [
    "#使用POS标记寻找三词短语\n",
    "def process(sentence):\n",
    "    for (w1,t1), (w2,t2), (w3,t3) in nltk.trigrams(sentence):\n",
    "        if (t1.startswith('V') and t2 == 'TO' and t3.startswith('V')):\n",
    "            print (w1, w2, w3)\n",
    "\n",
    "n = 0\n",
    "for tagged_sent in brown.tagged_sents():\n",
    "    process(tagged_sent)\n",
    "    n=n+1\n",
    "    if n==100:\n",
    "        break"
   ]
  }
 ],
 "metadata": {
  "kernelspec": {
   "display_name": "Python 3",
   "language": "python",
   "name": "python3"
  },
  "language_info": {
   "codemirror_mode": {
    "name": "ipython",
    "version": 3
   },
   "file_extension": ".py",
   "mimetype": "text/x-python",
   "name": "python",
   "nbconvert_exporter": "python",
   "pygments_lexer": "ipython3",
   "version": "3.7.1"
  }
 },
 "nbformat": 4,
 "nbformat_minor": 2
}
