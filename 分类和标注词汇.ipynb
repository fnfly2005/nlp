{
 "cells": [
  {
   "cell_type": "markdown",
   "metadata": {},
   "source": [
    "# 词性标注器"
   ]
  },
  {
   "cell_type": "code",
   "execution_count": 7,
   "metadata": {},
   "outputs": [
    {
     "name": "stdout",
     "output_type": "stream",
     "text": [
      "[('And', 'CC'), ('now', 'RB'), ('for', 'IN'), ('something', 'NN'), ('completely', 'RB'), ('different', 'JJ')]\n",
      "RB: adverb\n",
      "    occasionally unabatingly maddeningly adventurously professedly\n",
      "    stirringly prominently technologically magisterially predominately\n",
      "    swiftly fiscally pitilessly ...\n"
     ]
    }
   ],
   "source": [
    "import nltk\n",
    "text = nltk.word_tokenize(\"And now for something completely different\")\n",
    "print(nltk.pos_tag(text))\n",
    "nltk.help.upenn_tagset('RB')"
   ]
  },
  {
   "cell_type": "markdown",
   "metadata": {},
   "source": [
    "# 标注语料库-表示已标注的标识符"
   ]
  },
  {
   "cell_type": "code",
   "execution_count": 16,
   "metadata": {},
   "outputs": [
    {
     "name": "stdout",
     "output_type": "stream",
     "text": [
      "NN\n",
      "[('The', 'AT'), ('grand', 'JJ'), ('jury', 'NN'), ('commented', 'VBD'), ('on', 'IN')]\n"
     ]
    }
   ],
   "source": [
    "tagged_token = nltk.tag.util.str2tuple('fly/NN')#由词性标注字符串构建元组\n",
    "print(tagged_token[1])\n",
    "sent = '''The/AT grand/JJ jury/NN commented/VBD on/IN'''\n",
    "print([nltk.tag.util.str2tuple(t) for t in sent.split()])"
   ]
  },
  {
   "cell_type": "markdown",
   "metadata": {},
   "source": [
    "# 标注语料库-读取已标注的语料库\n",
    "\n",
    "ADJ 形容词 new, good, high, special, big, local\n",
    "\n",
    "ADV 动词 really, already, still, early, now\n",
    "\n",
    "CNJ 连词 and, or, but, if, while, although\n",
    "\n",
    "DET 限定词 the, a, some, most, every, no\n",
    "\n",
    "EX 存在量词 there, there's\n",
    "\n",
    "FW 外来词 dolce, ersatz, esprit, quo, maitre\n",
    "\n",
    "MOD 情态动词 will, can, would, may, must, should\n",
    "\n",
    "N 名词 year, home, costs, time, education\n",
    "\n",
    "NP 专有名词 Alison, Africa, April, Washington\n",
    "\n",
    "NUM 数词 twenty-four, fourth, 1991, 14:24\n",
    "\n",
    "PRO 代词 he, their, her, its, my, I, us\n",
    "\n",
    "P 介词 on, of, at, with, by, into, under\n",
    "\n",
    "TO 词 to to\n",
    "\n",
    "UH 感叹词 ah, bang, ha, whee, hmpf, oops\n",
    "\n",
    "V 动词 is, has, get, do, make, see, run\n",
    "\n",
    "VD 过去式 said, took, told, made, asked\n",
    "\n",
    "VG 现在分词 making, going, playing, working\n",
    "\n",
    "VN 过去分词 given, taken, begun, sung\n",
    "\n",
    "WH Wh 限定词 who, which, when, what, where, how"
   ]
  },
  {
   "cell_type": "code",
   "execution_count": 32,
   "metadata": {},
   "outputs": [
    {
     "name": "stdout",
     "output_type": "stream",
     "text": [
      "[('The', 'DET'), ('Fulton', 'NOUN'), ...]\n",
      "dict_keys(['DET', 'NOUN', 'ADJ', 'VERB', 'ADP', '.', 'ADV', 'CONJ', 'PRT', 'PRON', 'NUM', 'X'])\n"
     ]
    },
    {
     "data": {
      "image/png": "[encoded data removed]",
      "text/plain": [
       "<Figure size 432x288 with 1 Axes>"
      ]
     },
     "metadata": {
      "needs_background": "light"
     },
     "output_type": "display_data"
    }
   ],
   "source": [
    "from nltk.corpus import brown\n",
    "from matplotlib import pyplot as plt\n",
    "print(brown.tagged_words(tagset='universal'))\n",
    "brown_news_tagged = brown.tagged_words(categories='news', tagset='universal')\n",
    "tag_fd = nltk.FreqDist(tag for (word, tag) in brown_news_tagged)\n",
    "print(tag_fd.keys())\n",
    "tag_fd.plot(cumulative=True)"
   ]
  },
  {
   "cell_type": "markdown",
   "metadata": {},
   "source": [
    "# 标注语料库-名词\n",
    "名词出现在限定词和形容词之后，包括数字形容词(数词，标注为 N U M )。"
   ]
  },
  {
   "cell_type": "code",
   "execution_count": 34,
   "metadata": {},
   "outputs": [
    {
     "data": {
      "text/plain": [
       "['DET',\n",
       " 'NOUN',\n",
       " 'ADJ',\n",
       " 'VERB',\n",
       " 'ADP',\n",
       " 'CONJ',\n",
       " '.',\n",
       " 'NUM',\n",
       " 'ADV',\n",
       " 'PRT',\n",
       " 'X',\n",
       " 'PRON']"
      ]
     },
     "execution_count": 34,
     "metadata": {},
     "output_type": "execute_result"
    }
   ],
   "source": [
    "word_tag_pairs = nltk.bigrams(brown_news_tagged)\n",
    "list(nltk.FreqDist(a[1] for (a, b) in word_tag_pairs if b[1] == 'NOUN'))"
   ]
  }
 ],
 "metadata": {
  "kernelspec": {
   "display_name": "Python 3",
   "language": "python",
   "name": "python3"
  },
  "language_info": {
   "codemirror_mode": {
    "name": "ipython",
    "version": 3
   },
   "file_extension": ".py",
   "mimetype": "text/x-python",
   "name": "python",
   "nbconvert_exporter": "python",
   "pygments_lexer": "ipython3",
   "version": "3.7.1"
  }
 },
 "nbformat": 4,
 "nbformat_minor": 2
}
