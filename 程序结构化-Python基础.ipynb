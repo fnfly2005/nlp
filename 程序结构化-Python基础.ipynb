{
 "cells": [
  {
   "cell_type": "markdown",
   "metadata": {},
   "source": [
    "# 基础\n",
    "python-内置函数"
   ]
  },
  {
   "cell_type": "code",
   "execution_count": 11,
   "metadata": {},
   "outputs": [
    {
     "name": "stdout",
     "output_type": "stream",
     "text": [
      "[[], [], []]\n",
      "[['Python'], ['Python'], ['Python']]\n",
      "[['Python'], ['Monty'], ['Python']]\n",
      "[['Python', 'test'], ['Monty'], ['Python', 'test']]\n",
      "[['Python', 'test'], ['Monty'], ['Python', 'test']]\n",
      "[['Python'], ['Monty', 'test'], ['Python']]\n"
     ]
    }
   ],
   "source": [
    "import copy\n",
    "empty = []\n",
    "nested = [empty, empty, empty]\n",
    "print (nested)\n",
    "#改变链表中嵌套链表内的一个项目，它们全改变了。这是因为三个元素中的每一个实际上都只是一个内存中的同一链表的引用\n",
    "\n",
    "nested[1].append('Python')\n",
    "print (nested)\n",
    "#当我们分配一个新值给链表中的一个元素时,它并不会传送给其他元素,这是因为我们使用到一个新对象['Monty']的引用来覆盖三个元素中的一个\n",
    "\n",
    "nested[1] = ['Monty']\n",
    "print (nested)\n",
    "bar = nested[:]#复制一个新的链表并复制链表中的对象引用\n",
    "alt = copy.deepcopy(nested)#复制一个新的链表,但不复制任何对象引用\n",
    "bar[0].append('test')\n",
    "alt[1].append('test')\n",
    "print (bar)\n",
    "print (nested)\n",
    "print (alt)"
   ]
  },
  {
   "cell_type": "code",
   "execution_count": 12,
   "metadata": {},
   "outputs": [
    {
     "name": "stdout",
     "output_type": "stream",
     "text": [
      "False\n",
      "True\n"
     ]
    }
   ],
   "source": [
    "sent = ['No', 'good', 'fish', 'goes', 'anywhere', 'without', 'a', 'porpoise', '.']\n",
    "print (all(len(w) > 4 for w in sent))#所有元素为true则为true\n",
    "print (any(len(w) > 4 for w in sent))#任意元素一个为true则为true"
   ]
  },
  {
   "cell_type": "markdown",
   "metadata": {},
   "source": [
    "# 序列操作\n",
    "元组-不可改变\n",
    "\n",
    "元组使用逗号操作符来构造,空元组是一个特殊的情况下，使用空括号()定义\n",
    "\n",
    "序列(元组、链表、集合、字典)的通用操作\n",
    "\n",
    "for item in s 遍历 s 中的元素\n",
    "\n",
    "for item in sorted(s) 按顺序遍历 s 中的元素\n",
    "\n",
    "for item in set(s) 遍历 s 中的无重复的元素\n",
    "\n",
    "for item in reversed(s) 按逆序遍历 s 中的元素\n",
    "\n",
    "for item in set(s).difference(t) 遍历在集合 s 中不在集合 t 的元素\n",
    "\n",
    "random.shuffle(s) 按随机顺序重排 s 中的元素，无返回值\n",
    "\n",
    "python-常用对象API-random模块-排序"
   ]
  },
  {
   "cell_type": "code",
   "execution_count": 9,
   "metadata": {},
   "outputs": [
    {
     "name": "stdout",
     "output_type": "stream",
     "text": [
      "('walk', 'fem', 3)\n",
      "['off', 'the', 'spectroroute', 'I', 'turned']\n"
     ]
    }
   ],
   "source": [
    "t='walk','fem',3\n",
    "text = ['I', 'turned', 'off', 'the', 'spectroroute']\n",
    "print (t)\n",
    "random.shuffle(text)\n",
    "print (text)"
   ]
  },
  {
   "cell_type": "markdown",
   "metadata": {},
   "source": [
    "# 函数"
   ]
  },
  {
   "cell_type": "code",
   "execution_count": 13,
   "metadata": {},
   "outputs": [],
   "source": [
    "import re\n",
    "def get_text(file):\n",
    "    \"\"\"Read text from a file, normalizing whitespace and stripping HTML markup.\"\"\"\n",
    "    text = open(file).read()\n",
    "    text = re.sub('\\s+', ' ', text)#替换字符并返回替换后的字符串\n",
    "    text = re.sub(r'<.*?>', ' ', text)\n",
    "    return text\n",
    "def accuracy(reference, test): \n",
    "    \"\"\"\n",
    "    Calculate the fraction of test items that equal the corresponding reference items. Given a list of reference values and a corresponding list of test values,\n",
    "    return the fraction of corresponding values that are equal.\n",
    "    In particular, return the fraction of indexes\n",
    "    {0<i<=len(test)} such that C{test[i] == reference[i]}. >>> accuracy(['ADJ', 'N', 'V', 'N'], ['N', 'N', 'V', 'ADJ']) 0.5\n",
    "    @param reference: An ordered list of reference values.\n",
    "    @type reference: C{list}\n",
    "    @param test: A list of values to compare against the corresponding\n",
    "    reference values.\n",
    "    @type test: C{list}\n",
    "    @rtype: C{float}\n",
    "    @raise ValueError: If C{reference} and C{length} do not have the\n",
    "    same length. \"\"\"\n",
    "    if len(reference) != len(test):\n",
    "        raise ValueError(\"Lists must have the same length.\")\n",
    "    num_correct = 0\n",
    "    for x, y in izip(reference, test):\n",
    "        if x == y:\n",
    "            num_correct += 1\n",
    "    return float(num_correct)/len(reference)"
   ]
  },
  {
   "cell_type": "markdown",
   "metadata": {},
   "source": [
    "# 作为参数的函数"
   ]
  },
  {
   "cell_type": "code",
   "execution_count": 19,
   "metadata": {},
   "outputs": [
    {
     "name": "stdout",
     "output_type": "stream",
     "text": [
      "[4, 4, 2, 3, 5, 1, 3, 3, 6, 4, 4, 4, 2, 10, 1]\n",
      "['e', 'e', 'f', 'e', 'e', ',', 'd', 'e', 's', 'l', 'e', 'e', 'f', 's', '.']\n",
      "['e', 'e', 'f', 'e', 'e', ',', 'd', 'e', 's', 'l', 'e', 'e', 'f', 's', '.']\n",
      "[',', '.', 'Take', 'and', 'care', 'care', 'of', 'of', 'sense', 'sounds', 'take', 'the', 'the', 'themselves', 'will']\n"
     ]
    }
   ],
   "source": [
    "sent = ['Take', 'care', 'of', 'the', 'sense', ',', 'and', 'the',\\\n",
    "        'sounds', 'will', 'take', 'care', 'of', 'themselves', '.']\n",
    "def extract_property(prop):\n",
    "    return [prop(word) for word in sent]\n",
    "\n",
    "print(extract_property(len))\n",
    "\n",
    "def last_letter(word):\n",
    "    return word[-1]\n",
    "\n",
    "print(extract_property(last_letter))\n",
    "print(extract_property(lambda w: w[-1]))\n",
    "print(sorted(sent))"
   ]
  },
  {
   "cell_type": "markdown",
   "metadata": {},
   "source": [
    "# 累计函数\n",
    "python-yield-用法"
   ]
  },
  {
   "cell_type": "code",
   "execution_count": 24,
   "metadata": {},
   "outputs": [
    {
     "name": "stdout",
     "output_type": "stream",
     "text": [
      "<class 'generator'>\n",
      "<class 'list'>\n"
     ]
    }
   ],
   "source": [
    "import nltk\n",
    "def search1(substring, words):\n",
    "    result = []\n",
    "    for word in words:\n",
    "        if substring in word: \n",
    "            result.append(word)\n",
    "    return result\n",
    "\n",
    "def search2(substring, words):\n",
    "    for word in words:\n",
    "        if substring in word:\n",
    "            yield word\n",
    "\n",
    "print (type(search2('zz', nltk.corpus.brown.words())))#利用yield生成一个迭代器，更节省内存\n",
    "print (type(search1('zz', nltk.corpus.brown.words())))#生成一个链表"
   ]
  }
 ],
 "metadata": {
  "kernelspec": {
   "display_name": "Python 3",
   "language": "python",
   "name": "python3"
  },
  "language_info": {
   "codemirror_mode": {
    "name": "ipython",
    "version": 3
   },
   "file_extension": ".py",
   "mimetype": "text/x-python",
   "name": "python",
   "nbconvert_exporter": "python",
   "pygments_lexer": "ipython3",
   "version": "3.7.1"
  }
 },
 "nbformat": 4,
 "nbformat_minor": 2
}
