{
 "cells": [
  {
   "cell_type": "markdown",
   "metadata": {},
   "source": [
    "# 基础\n",
    "python-内置函数"
   ]
  },
  {
   "cell_type": "code",
   "execution_count": 11,
   "metadata": {},
   "outputs": [
    {
     "name": "stdout",
     "output_type": "stream",
     "text": [
      "[[], [], []]\n",
      "[['Python'], ['Python'], ['Python']]\n",
      "[['Python'], ['Monty'], ['Python']]\n",
      "[['Python', 'test'], ['Monty'], ['Python', 'test']]\n",
      "[['Python', 'test'], ['Monty'], ['Python', 'test']]\n",
      "[['Python'], ['Monty', 'test'], ['Python']]\n"
     ]
    }
   ],
   "source": [
    "import copy\n",
    "empty = []\n",
    "nested = [empty, empty, empty]\n",
    "print (nested)\n",
    "#改变链表中嵌套链表内的一个项目，它们全改变了。这是因为三个元素中的每一个实际上都只是一个内存中的同一链表的引用\n",
    "\n",
    "nested[1].append('Python')\n",
    "print (nested)\n",
    "#当我们分配一个新值给链表中的一个元素时,它并不会传送给其他元素,这是因为我们使用到一个新对象['Monty']的引用来覆盖三个元素中的一个\n",
    "\n",
    "nested[1] = ['Monty']\n",
    "print (nested)\n",
    "bar = nested[:]#复制一个新的链表并复制链表中的对象引用\n",
    "alt = copy.deepcopy(nested)#复制一个新的链表,但不复制任何对象引用\n",
    "bar[0].append('test')\n",
    "alt[1].append('test')\n",
    "print (bar)\n",
    "print (nested)\n",
    "print (alt)"
   ]
  },
  {
   "cell_type": "code",
   "execution_count": 12,
   "metadata": {},
   "outputs": [
    {
     "name": "stdout",
     "output_type": "stream",
     "text": [
      "False\n",
      "True\n"
     ]
    }
   ],
   "source": [
    "sent = ['No', 'good', 'fish', 'goes', 'anywhere', 'without', 'a', 'porpoise', '.']\n",
    "print (all(len(w) > 4 for w in sent))#所有元素为true则为true\n",
    "print (any(len(w) > 4 for w in sent))#任意元素一个为true则为true"
   ]
  },
  {
   "cell_type": "markdown",
   "metadata": {},
   "source": [
    "# 序列操作\n",
    "元组-不可改变\n",
    "\n",
    "元组使用逗号操作符来构造,空元组是一个特殊的情况下，使用空括号()定义\n",
    "\n",
    "序列(元组、链表、集合、字典)的通用操作\n",
    "\n",
    "for item in s 遍历 s 中的元素\n",
    "\n",
    "for item in sorted(s) 按顺序遍历 s 中的元素\n",
    "\n",
    "for item in set(s) 遍历 s 中的无重复的元素\n",
    "\n",
    "for item in reversed(s) 按逆序遍历 s 中的元素\n",
    "\n",
    "for item in set(s).difference(t) 遍历在集合 s 中不在集合 t 的元素\n",
    "\n",
    "random.shuffle(s) 按随机顺序重排 s 中的元素，无返回值\n",
    "\n",
    "python-常用对象API-random模块-排序"
   ]
  },
  {
   "cell_type": "code",
   "execution_count": 9,
   "metadata": {},
   "outputs": [
    {
     "name": "stdout",
     "output_type": "stream",
     "text": [
      "('walk', 'fem', 3)\n",
      "['off', 'the', 'spectroroute', 'I', 'turned']\n"
     ]
    }
   ],
   "source": [
    "t='walk','fem',3\n",
    "text = ['I', 'turned', 'off', 'the', 'spectroroute']\n",
    "print (t)\n",
    "random.shuffle(text)\n",
    "print (text)"
   ]
  },
  {
   "cell_type": "markdown",
   "metadata": {},
   "source": [
    "# 函数"
   ]
  },
  {
   "cell_type": "code",
   "execution_count": 13,
   "metadata": {},
   "outputs": [],
   "source": [
    "import re\n",
    "def get_text(file):\n",
    "    \"\"\"Read text from a file, normalizing whitespace and stripping HTML markup.\"\"\"\n",
    "    text = open(file).read()\n",
    "    text = re.sub('\\s+', ' ', text)#替换字符并返回替换后的字符串\n",
    "    text = re.sub(r'<.*?>', ' ', text)\n",
    "    return text\n",
    "def accuracy(reference, test): \n",
    "    \"\"\"\n",
    "    Calculate the fraction of test items that equal the corresponding reference items. Given a list of reference values and a corresponding list of test values,\n",
    "    return the fraction of corresponding values that are equal.\n",
    "    In particular, return the fraction of indexes\n",
    "    {0<i<=len(test)} such that C{test[i] == reference[i]}. >>> accuracy(['ADJ', 'N', 'V', 'N'], ['N', 'N', 'V', 'ADJ']) 0.5\n",
    "    @param reference: An ordered list of reference values.\n",
    "    @type reference: C{list}\n",
    "    @param test: A list of values to compare against the corresponding\n",
    "    reference values.\n",
    "    @type test: C{list}\n",
    "    @rtype: C{float}\n",
    "    @raise ValueError: If C{reference} and C{length} do not have the\n",
    "    same length. \"\"\"\n",
    "    if len(reference) != len(test):\n",
    "        raise ValueError(\"Lists must have the same length.\")\n",
    "    num_correct = 0\n",
    "    for x, y in izip(reference, test):\n",
    "        if x == y:\n",
    "            num_correct += 1\n",
    "    return float(num_correct)/len(reference)"
   ]
  },
  {
   "cell_type": "markdown",
   "metadata": {},
   "source": [
    "# 作为参数的函数"
   ]
  },
  {
   "cell_type": "code",
   "execution_count": 19,
   "metadata": {},
   "outputs": [
    {
     "name": "stdout",
     "output_type": "stream",
     "text": [
      "[4, 4, 2, 3, 5, 1, 3, 3, 6, 4, 4, 4, 2, 10, 1]\n",
      "['e', 'e', 'f', 'e', 'e', ',', 'd', 'e', 's', 'l', 'e', 'e', 'f', 's', '.']\n",
      "['e', 'e', 'f', 'e', 'e', ',', 'd', 'e', 's', 'l', 'e', 'e', 'f', 's', '.']\n",
      "[',', '.', 'Take', 'and', 'care', 'care', 'of', 'of', 'sense', 'sounds', 'take', 'the', 'the', 'themselves', 'will']\n"
     ]
    }
   ],
   "source": [
    "sent = ['Take', 'care', 'of', 'the', 'sense', ',', 'and', 'the',\\\n",
    "        'sounds', 'will', 'take', 'care', 'of', 'themselves', '.']\n",
    "def extract_property(prop):\n",
    "    return [prop(word) for word in sent]\n",
    "\n",
    "print(extract_property(len))\n",
    "\n",
    "def last_letter(word):\n",
    "    return word[-1]\n",
    "\n",
    "print(extract_property(last_letter))\n",
    "print(extract_property(lambda w: w[-1]))\n",
    "print(sorted(sent))"
   ]
  },
  {
   "cell_type": "markdown",
   "metadata": {},
   "source": [
    "# 累计函数\n",
    "python-yield-用法"
   ]
  },
  {
   "cell_type": "code",
   "execution_count": 8,
   "metadata": {},
   "outputs": [
    {
     "name": "stdout",
     "output_type": "stream",
     "text": [
      "<class 'generator'>\n",
      "<class 'list'>\n"
     ]
    }
   ],
   "source": [
    "import nltk\n",
    "def search1(substring, words):\n",
    "    result = []\n",
    "    for word in words:\n",
    "        if substring in word: \n",
    "            result.append(word)\n",
    "    return result\n",
    "\n",
    "def search2(substring, words):\n",
    "    for word in words:\n",
    "        if substring in word:\n",
    "            yield word\n",
    "\n",
    "print (type(search2('zz', nltk.corpus.brown.words())))#利用yield生成一个迭代器，更节省内存\n",
    "print (type(search1('zz', nltk.corpus.brown.words())))#生成一个链表"
   ]
  },
  {
   "cell_type": "markdown",
   "metadata": {},
   "source": [
    "# 高阶函数\n",
    "一个函数就可以接收另一个函数作为参数，这种函数就称之为高阶函数。\n",
    "\n",
    "python-内置函数\n",
    "\n",
    "filter(function, iterable) 用于过滤序列，过滤掉不符合条件的元素\n",
    "\n",
    "function -- 判断函数\n",
    "\n",
    "iterable -- 可迭代对象\n",
    "\n",
    "返回由符合条件元素组成的新列表\n",
    "\n",
    "map(function, iterable, ...) 根据提供的函数对指定序列做映射\n",
    "\n",
    "function -- 函数\n",
    "\n",
    "iterable -- 一个或多个序列\n",
    "\n",
    "返回包含每次 function 函数返回值的新列表,类似numpy矩阵操作"
   ]
  },
  {
   "cell_type": "code",
   "execution_count": 11,
   "metadata": {},
   "outputs": [
    {
     "name": "stdout",
     "output_type": "stream",
     "text": [
      "11\n",
      "['Take', 'care', 'sense', 'sounds', 'take', 'care', 'themselves']\n",
      "21.75081116158339\n"
     ]
    }
   ],
   "source": [
    "def add(x, y, f):\n",
    "    return f(x) + f(y)\n",
    "\n",
    "print (add(-5, 6, abs))\n",
    "\n",
    "def is_content_word(word):\n",
    "    return word.lower() not in ['a', 'of', 'the', 'and', 'will', ',', '.']\n",
    "\n",
    "sent = ['Take', 'care', 'of', 'the', 'sense', ',', 'and', 'the',\\\n",
    "        'sounds', 'will', 'take', 'care', 'of', 'themselves', '.']\n",
    "\n",
    "print (list(filter(is_content_word, sent)))\n",
    "\n",
    "lengths = list(map(len, nltk.corpus.brown.sents(categories='news')))\n",
    "print(sum(lengths)/len(lengths))"
   ]
  },
  {
   "cell_type": "markdown",
   "metadata": {},
   "source": [
    "# 参数的命名\n",
    "\n",
    "python-内置函数\n",
    "\n",
    "zip([iterable, ...]) 函数用于将可迭代的对象作为参数，将对象中对应的元素打包成一个个元组，然后返回由这些元组组成的列表。"
   ]
  },
  {
   "cell_type": "code",
   "execution_count": 14,
   "metadata": {},
   "outputs": [
    {
     "name": "stdout",
     "output_type": "stream",
     "text": [
      "[('four', 'three', 'two'), ('calling', 'French', 'turtle'), ('birds', 'hens', 'doves')]\n"
     ]
    }
   ],
   "source": [
    "song = [['four', 'calling', 'birds'],\\\n",
    "        ['three', 'French', 'hens'],\\\n",
    "        ['two', 'turtle', 'doves']]\n",
    "print (list(zip(song[0], song[1], song[2])))"
   ]
  },
  {
   "cell_type": "markdown",
   "metadata": {},
   "source": [
    "# 程序开发\n",
    "你可以使用变量 __file__定 位你的系统中任一 NLTK 模块的代码\n",
    "\n",
    "python-pdb模块-调试"
   ]
  },
  {
   "cell_type": "code",
   "execution_count": 1,
   "metadata": {},
   "outputs": [
    {
     "name": "stdout",
     "output_type": "stream",
     "text": [
      "/Users/fannian/anaconda3/lib/python3.7/site-packages/nltk/metrics/distance.py\n"
     ]
    }
   ],
   "source": [
    "from nltk.metrics import distance \n",
    "print (distance.__file__)\n",
    "\n",
    "import pdb\n",
    "def testpdb(s):\n",
    "    n = int(s)\n",
    "    print (10 / n)"
   ]
  },
  {
   "cell_type": "code",
   "execution_count": 2,
   "metadata": {},
   "outputs": [
    {
     "name": "stdout",
     "output_type": "stream",
     "text": [
      "> <string>(1)<module>()\n",
      "(Pdb) step\n",
      "--Call--\n",
      "> <ipython-input-1-3469645f61ef>(5)testpdb()\n",
      "-> def testpdb(s):\n",
      "(Pdb) args\n",
      "s = '0'\n",
      "(Pdb) quit\n"
     ]
    }
   ],
   "source": [
    "pdb.run(\"testpdb('0')\")"
   ]
  },
  {
   "cell_type": "markdown",
   "metadata": {},
   "source": [
    "# 算法设计-递归"
   ]
  },
  {
   "cell_type": "code",
   "execution_count": 11,
   "metadata": {},
   "outputs": [
    {
     "name": "stdout",
     "output_type": "stream",
     "text": [
      "24\n",
      "24\n"
     ]
    }
   ],
   "source": [
    "#迭代设计\n",
    "def factorial1(n):\n",
    "    result = 1\n",
    "    for i in range(n):\n",
    "        result *= (i+1)\n",
    "    print (result)\n",
    "\n",
    "#递归设计\n",
    "def factorial2(n):\n",
    "    if n==1:\n",
    "        return 1\n",
    "    else:\n",
    "        return n * factorial2(n-1)\n",
    "\n",
    "factorial1(4)\n",
    "print(factorial2(4))"
   ]
  },
  {
   "cell_type": "markdown",
   "metadata": {},
   "source": [
    "# 算法设计-时间评估\n",
    "\n",
    "python-常用对象API-timeit模块\n",
    "\n",
    "Timer 测量代码执行时间\n",
    "两个参数都是字符串格式；第一个时要执行的代码对象，第二个是导入被执行的对象\n",
    "\n",
    "python-常用对象API-random模块"
   ]
  },
  {
   "cell_type": "code",
   "execution_count": 69,
   "metadata": {},
   "outputs": [
    {
     "name": "stdout",
     "output_type": "stream",
     "text": [
      "0.0008297499998661806\n",
      "0.0017097909999392868\n",
      "0.0033415299999433046\n"
     ]
    },
    {
     "data": {
      "text/plain": [
       "6756"
      ]
     },
     "execution_count": 69,
     "metadata": {},
     "output_type": "execute_result"
    }
   ],
   "source": [
    "from timeit import Timer\n",
    "def testtimer(n):\n",
    "    l=[i*i for i in range(n)]\n",
    "t1 = Timer('testtimer(100)','from __main__ import testtimer')\n",
    "print(t1.timeit(100))\n",
    "\n",
    "statement='random.randint(0, 10000) in vocab'#用于生成一个指定范围内的整数。其中参数a是下限，参数b是上限\n",
    "print(Timer(statement,'import random ;vocab=set(range(10000))').timeit(1000))\n",
    "print(Timer(statement,'import random ;vocab=range(10000)').timeit(1000))"
   ]
  },
  {
   "cell_type": "markdown",
   "metadata": {},
   "source": [
    "# 算法设计-动态规划框架\n",
    "\n",
    "## 问题\n",
    "先来看看生活中经常遇到的事吧——假设您是个土豪，身上带了足够的1、5、10、20、50、100元面值的钞票。现在您的目标是凑出某个金额w，需要用到尽量少的钞票。　　\n",
    "## 贪心算法\n",
    "依据生活经验，我们显然可以采取这样的策略：能用100的就尽量用100的，否则尽量用50的……依次类推。在这种策略下，666=6×100+1×50+1×10+1×5+1×1，共使用了10张钞票。　　这种策略称为“贪心”：假设我们面对的局面是“需要凑出w”，贪心策略会尽快让w变得更小。能让w少100就尽量让它少100，这样我们接下来面对的局面就是凑出w-100。长期的生活经验表明，贪心策略是正确的。\n",
    "在这里我们发现，贪心是一种只考虑眼前情况的策略。\n",
    "## 穷举算法\n",
    "如果直接暴力枚举凑出w的方案，明显复杂度过高。太多种方法可以凑出w了，枚举它们的时间是不可承受的。我们现在来尝试找一下性质\n",
    "## 动态规划\n",
    "重新分析刚刚的例子。w=15时，我们如果取11，接下来就面对w=4的情况；如果取5，则接下来面对w=10的情况。我们发现这些问题都有相同的形式：“给定w，凑出w所用的最少钞票是多少张？”接下来，我们用f(n)来表示“凑出n所需的最少钞票数量”。\n",
    "那么，如果我们取了11，最后的代价（用掉的钞票总数）是多少呢？\n",
    "\n",
    "cost=f(4)+1=4+1=5,它的意义是：利用11来凑出15，付出的代价等于f(4)加上自己这一张钞票。现在我们暂时不管f(4)怎么求出来.\n",
    "\n",
    "依次类推，马上可以知道：如果我们用5来凑出15，cost就是f(10)+1=2+1=3\n",
    "\n",
    "那么，现在w=15的时候，我们该取那种钞票呢？当然是各种方案中，cost值最低的那一个！\n",
    "\n",
    "取11 cost=f(4)+1=4+1=5\n",
    "\n",
    "取5 cost=f(10)+1=2+1=3\n",
    "\n",
    "取1 cost=f(14)+1=4+1=5\n",
    "\n",
    "显而易见，cost值最低的是取5的方案。我们通过上面三个式子，做出了正确的决策！\n",
    "\n",
    "这给了我们一个至关重要的启示——f（n）=min{f(n-1),f(n-5),f(n-11)}+1\n",
    "\n",
    "这个式子是非常激动人心的。我们要求出f(n)，只需要求出几个更小的f值；既然如此，我们从小到大把所有的f(i)求出来不就好了？注意一下边界情况即可。代码如下：\n",
    "\n",
    "我们以 O(n) 的复杂度解决了这个问题。现在回过头来，我们看看它的原理：\n",
    "\n",
    "f(n) 只与f(n-1),f(n-5),f(n-11)的值相关。\n",
    "\n",
    "我们只关心 f(w) 的值，不关心是怎么凑出w的。\n",
    "\n",
    "这两个事实，保证了我们做法的正确性。它比起贪心策略，会分别算出取1、5、11的代价，从而做出一个正确决策，这样就避免掉了“鼠目寸光”！\n",
    "\n",
    "它与暴力的区别在哪里？我们的暴力枚举了“使用的硬币”，然而这属于冗余信息。我们要的是答案，根本不关心这个答案是怎么凑出来的。譬如，要求出f(15)，只需要知道f(14),f(10),f(4)的值。其他信息并不需要。我们舍弃了冗余信息。我们只记录了对解决问题有帮助的信息——f(n).\n",
    "\n",
    "我们能这样干，取决于问题的性质：求出f(n)，只需要知道几个更小的f(c)。我们将求解f(c)称作求解f(n)的“子问题”。\n",
    "\n",
    "这就是DP（动态规划，dynamic programming）.\n",
    "\n",
    "将一个问题拆成几个子问题，分别求解这些子问题，即可推断出大问题的解。\n",
    "\n",
    "【无后效性】一旦f(n)确定，“我们如何凑出f(n)”就再也用不着了。　　要求出f(15)，只需要知道f(14),f(10),f(4)的值，而f(14),f(10),f(4)是如何算出来的，对之后的问题没有影响。　　“未来与过去无关”，这就是无后效性。　　（严格定义：如果给定某一阶段的状态，则在这一阶段以后过程的发展不受这阶段以前各段状态的影响。）\n",
    "\n",
    "【最优子结构】回顾我们对f(n)的定义：我们记“凑出n所需的最少钞票数量”为f(n).　　f(n)的定义就已经蕴含了“最优”。利用w=14,10,4的最优解，我们即可算出w=15的最优解。　　大问题的最优解可以由小问题的最优解推出，这个性质叫做“最优子结构性质”。　　引入这两个概念之后，我们如何判断一个问题能否使用DP解决呢？　　能将大问题拆成几个小问题，且满足无后效性、最优子结构性质\n",
    "\n",
    "【DP的核心思想】无论是DP还是暴力，我们的算法都是在可能解空间内，寻找最优解。来看钞票问题。暴力做法是枚举所有的可能解，这是最大的可能解空间。　DP是枚举有希望成为答案的解。这个空间比暴力的小得多。也就是说：DP自带剪枝。从而我们可以得到DP的核心思想：尽量缩小可能解空间.在暴力算法中，可能解空间往往是指数级的大小；如果我们采用DP，那么有可能把解空间的大小降到多项式级。\n",
    "\n",
    "【DP的操作过程】一言以蔽之：大事化小，小事化了。将一个大问题转化成几个小问题；求解小问题；推出大问题的解。\n",
    "\n",
    "【如何设计DP算法】首先，把我们面对的局面表示为x。这一步称为设计状态。对于状态x，记我们要求出的答案(e.g. 最小费用)为f(x).我们的目标是求出f(T).找出f(x)与哪些局面有关（记为p），写出一个式子（称为状态转移方程），通过f(p)来推出f(x)."
   ]
  },
  {
   "cell_type": "code",
   "execution_count": 21,
   "metadata": {},
   "outputs": [
    {
     "name": "stdout",
     "output_type": "stream",
     "text": [
      "2\n"
     ]
    }
   ],
   "source": [
    "def dynamicProgrammingDemo(n,sglt):\n",
    "    dpf=[0]\n",
    "    cost=0\n",
    "    for i in range(1,n+1):\n",
    "        for j in sglt:\n",
    "            if j == sglt[0]:\n",
    "                cost=cost+1\n",
    "                continue\n",
    "            elif i >= j:\n",
    "                cost=min(dpf[i-j]+1,cost)\n",
    "        dpf.append(cost)\n",
    "    print (dpf[-1])\n",
    "dynamicProgrammingDemo(100,[1,2,5,10,20,50])"
   ]
  },
  {
   "cell_type": "markdown",
   "metadata": {},
   "source": [
    "# Matplotlib 绘图工具 略-教材过时\n",
    "# NetworkX 略-教材过时"
   ]
  }
 ],
 "metadata": {
  "kernelspec": {
   "display_name": "Python 3",
   "language": "python",
   "name": "python3"
  },
  "language_info": {
   "codemirror_mode": {
    "name": "ipython",
    "version": 3
   },
   "file_extension": ".py",
   "mimetype": "text/x-python",
   "name": "python",
   "nbconvert_exporter": "python",
   "pygments_lexer": "ipython3",
   "version": "3.7.1"
  }
 },
 "nbformat": 4,
 "nbformat_minor": 2
}
