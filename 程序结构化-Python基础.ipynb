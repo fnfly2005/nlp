{
 "cells": [
  {
   "cell_type": "code",
   "execution_count": 11,
   "metadata": {},
   "outputs": [
    {
     "name": "stdout",
     "output_type": "stream",
     "text": [
      "[[], [], []]\n",
      "[['Python'], ['Python'], ['Python']]\n",
      "[['Python'], ['Monty'], ['Python']]\n",
      "[['Python', 'test'], ['Monty'], ['Python', 'test']]\n",
      "[['Python', 'test'], ['Monty'], ['Python', 'test']]\n",
      "[['Python'], ['Monty', 'test'], ['Python']]\n"
     ]
    }
   ],
   "source": [
    "import copy\n",
    "empty = []\n",
    "nested = [empty, empty, empty]\n",
    "print (nested)\n",
    "#改变链表中嵌套链表内的一个项目，它们全改变了。这是因为三个元素中的每一个实际上都只是一个内存中的同一链表的引用\n",
    "\n",
    "nested[1].append('Python')\n",
    "print (nested)\n",
    "#当我们分配一个新值给链表中的一个元素时,它并不会传送给其他元素,这是因为我们使用到一个新对象['Monty']的引用来覆盖三个元素中的一个\n",
    "\n",
    "nested[1] = ['Monty']\n",
    "print (nested)\n",
    "bar = nested[:]#复制一个新的链表并复制链表中的对象引用\n",
    "alt = copy.deepcopy(nested)#复制一个新的链表,但不复制任何对象引用\n",
    "bar[0].append('test')\n",
    "alt[1].append('test')\n",
    "print (bar)\n",
    "print (nested)\n",
    "print (alt)"
   ]
  },
  {
   "cell_type": "code",
   "execution_count": 12,
   "metadata": {},
   "outputs": [
    {
     "name": "stdout",
     "output_type": "stream",
     "text": [
      "False\n",
      "True\n"
     ]
    }
   ],
   "source": [
    "sent = ['No', 'good', 'fish', 'goes', 'anywhere', 'without', 'a', 'porpoise', '.']\n",
    "print (all(len(w) > 4 for w in sent))#所有元素为true则为true\n",
    "print (any(len(w) > 4 for w in sent))#任意元素一个为true则为true"
   ]
  }
 ],
 "metadata": {
  "kernelspec": {
   "display_name": "Python 3",
   "language": "python",
   "name": "python3"
  },
  "language_info": {
   "codemirror_mode": {
    "name": "ipython",
    "version": 3
   },
   "file_extension": ".py",
   "mimetype": "text/x-python",
   "name": "python",
   "nbconvert_exporter": "python",
   "pygments_lexer": "ipython3",
   "version": "3.7.1"
  }
 },
 "nbformat": 4,
 "nbformat_minor": 2
}
