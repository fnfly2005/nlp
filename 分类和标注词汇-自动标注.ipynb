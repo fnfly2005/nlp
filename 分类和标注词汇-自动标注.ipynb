{
 "cells": [
  {
   "cell_type": "code",
   "execution_count": 1,
   "metadata": {},
   "outputs": [],
   "source": [
    "from nltk.corpus import brown\n",
    "brown_tagged_sents = brown.tagged_sents(categories='news')\n",
    "brown_sents = brown.sents(categories='news')"
   ]
  },
  {
   "cell_type": "markdown",
   "metadata": {},
   "source": [
    "# 默认标注器"
   ]
  },
  {
   "cell_type": "code",
   "execution_count": 2,
   "metadata": {},
   "outputs": [
    {
     "name": "stdout",
     "output_type": "stream",
     "text": [
      "NN\n",
      "[('I', 'NN'), ('do', 'NN'), ('not', 'NN'), ('like', 'NN'), ('green', 'NN')]\n",
      "0.13089484257215028\n"
     ]
    }
   ],
   "source": [
    "import nltk\n",
    "#获取最高频的词性\n",
    "tags = [tag for (word, tag) in brown.tagged_words(categories='news')]#,tagset='universal'\n",
    "fd=nltk.FreqDist(tags)\n",
    "print(fd.max())\n",
    "\n",
    "default_tagger = nltk.DefaultTagger('NN')#默认词性标注器\n",
    "raw = 'I do not like green eggs and ham, I do not like them Sam I am!'\n",
    "tokens = nltk.word_tokenize(raw)\n",
    "print(default_tagger.tag(tokens)[:5])#返回标注后的文本\n",
    "print(default_tagger.evaluate(brown_tagged_sents))#评估标注器性能"
   ]
  },
  {
   "cell_type": "markdown",
   "metadata": {},
   "source": [
    "# 正则表达式标注器"
   ]
  },
  {
   "cell_type": "code",
   "execution_count": 3,
   "metadata": {},
   "outputs": [
    {
     "name": "stdout",
     "output_type": "stream",
     "text": [
      "[('``', 'NN'), ('Only', 'NN'), ('a', 'NN'), ('relative', 'NN'), ('handful', 'NN'), ('of', 'NN'), ('such', 'NN'), ('reports', 'NNS'), ('was', 'NNS'), ('received', 'VBD'), (\"''\", 'NN'), (',', 'NN'), ('the', 'NN'), ('jury', 'NN'), ('said', 'NN'), (',', 'NN'), ('``', 'NN'), ('considering', 'VBG'), ('the', 'NN'), ('widespread', 'NN'), ('interest', 'NN'), ('in', 'NN'), ('the', 'NN'), ('election', 'NN'), (',', 'NN'), ('the', 'NN'), ('number', 'NN'), ('of', 'NN'), ('voters', 'NNS'), ('and', 'NN'), ('the', 'NN'), ('size', 'NN'), ('of', 'NN'), ('this', 'NNS'), ('city', 'NN'), (\"''\", 'NN'), ('.', 'NN')]\n",
      "0.20326391789486245\n"
     ]
    }
   ],
   "source": [
    "patterns = [\n",
    "            (r'.*ing$', 'VBG'),\n",
    "            (r'.*ed$', 'VBD'),\n",
    "            (r'.*es$', 'VBZ'),\n",
    "            (r'.*ould$', 'MD'),\n",
    "            (r'.*\\'s$', 'NN$'),\n",
    "            (r'.*s$', 'NNS'),\n",
    "            (r'^-?[0-9]+(.[0-9]+)?$', 'CD'),\n",
    "            (r'.*', 'NN')\n",
    "           ]\n",
    "\n",
    "regexp_tagger = nltk.RegexpTagger(patterns)#正则词性标注器\n",
    "print(regexp_tagger.tag(brown_sents[3]))#返回标注后的文本\n",
    "print(regexp_tagger.evaluate(brown_tagged_sents))#评估词性标注器性能"
   ]
  },
  {
   "cell_type": "markdown",
   "metadata": {},
   "source": [
    "# 查询标注器"
   ]
  },
  {
   "cell_type": "code",
   "execution_count": 29,
   "metadata": {},
   "outputs": [
    {
     "name": "stdout",
     "output_type": "stream",
     "text": [
      "0.45578495136941344\n",
      "[('``', '``'), ('Only', None), ('a', 'AT'), ('relative', None), ('handful', None)]\n",
      "0.5817769556656125\n"
     ]
    }
   ],
   "source": [
    "#获取前100最频繁的词汇\n",
    "from operator import itemgetter\n",
    "fd = dict(nltk.FreqDist(brown.words(categories='news')))\n",
    "fd = sorted(fd.items(),key=itemgetter(1),reverse=True)\n",
    "most_freq_words=[k for k,v in fd][:100]\n",
    "\n",
    "#给这100词汇建立词汇标注键值对\n",
    "cfd = dict(nltk.ConditionalFreqDist(brown.tagged_words(categories='news')))\n",
    "likely_tags = dict((word, cfd[word].max()) for word in most_freq_words)\n",
    "\n",
    "#查询标注器\n",
    "baseline_tagger = nltk.UnigramTagger(model=likely_tags)\n",
    "print(baseline_tagger.evaluate(brown_tagged_sents))\n",
    "\n",
    "#在未标注文本上具体表现\n",
    "sent = brown.sents(categories='news')[3]\n",
    "print (baseline_tagger.tag(sent)[:5])\n",
    "\n",
    "#设置回退参数\n",
    "baseline_tagger = nltk.UnigramTagger(model=likely_tags,backoff=nltk.DefaultTagger('NN'))\n",
    "print (baseline_tagger.evaluate(brown_tagged_sents))"
   ]
  }
 ],
 "metadata": {
  "kernelspec": {
   "display_name": "Python 3",
   "language": "python",
   "name": "python3"
  },
  "language_info": {
   "codemirror_mode": {
    "name": "ipython",
    "version": 3
   },
   "file_extension": ".py",
   "mimetype": "text/x-python",
   "name": "python",
   "nbconvert_exporter": "python",
   "pygments_lexer": "ipython3",
   "version": "3.7.1"
  }
 },
 "nbformat": 4,
 "nbformat_minor": 2
}
