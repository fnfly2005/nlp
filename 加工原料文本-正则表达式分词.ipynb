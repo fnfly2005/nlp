{
 "cells": [
  {
   "cell_type": "markdown",
   "metadata": {},
   "source": [
    "# 分词的简单方法"
   ]
  },
  {
   "cell_type": "code",
   "execution_count": 13,
   "metadata": {},
   "outputs": [
    {
     "data": {
      "text/plain": [
       "[\"'When\", 'I', \"'M\", 'a', 'Duchess']"
      ]
     },
     "execution_count": 13,
     "metadata": {},
     "output_type": "execute_result"
    }
   ],
   "source": [
    "import re\n",
    "raw = \"\"\"'When I'M a Duchess,' she said to herself, (not in a very hopeful tone\n",
    "though), 'I won't have any pepper in my kitchen AT ALL. Soup does very\n",
    "well without--Maybe it's always pepper that makes people hot-tempered,'\"\"\"\n",
    "rst = re.split(r'\\W+',raw)#\\s所有空格符 \\W所有字母数字下划线以外的字符\n",
    "rfl = re.findall(r'\\w+|\\S\\w*',raw)\n",
    "rfl[:5]"
   ]
  },
  {
   "cell_type": "markdown",
   "metadata": {},
   "source": [
    "\\b 词边界（零宽度）\n",
    "\\d 任一十进制数字（相当于[0-9]）\n",
    "\\D 任何非数字字符（等价于[^ 0-9]）\n",
    "\\s 任何空白字符（相当于[ \\t\\n\\r\\f\\v]）\n",
    "\\S 任何非空白字符（相当于[^ \\t\\n\\r\\f\\v]）\n",
    "\\w 任何字母数字字符（相当于[a-zA-Z0-9_]）\n",
    "\\W 任何非字母数字字符（相当于[^a-zA-Z0-9_]）\n",
    "\\t 制表符\n",
    "\\n 换行符"
   ]
  },
  {
   "cell_type": "markdown",
   "metadata": {},
   "source": [
    "# NLTK 的正则表达式分词器"
   ]
  },
  {
   "cell_type": "code",
   "execution_count": 61,
   "metadata": {},
   "outputs": [
    {
     "data": {
      "text/plain": [
       "['That ', 'U.S.A. ', 'poster-print ', 'costs ', '$12.40', '...']"
      ]
     },
     "execution_count": 61,
     "metadata": {},
     "output_type": "execute_result"
    }
   ],
   "source": [
    "import nltk\n",
    "text = 'That U.S.A. poster-print costs $12.40...'\n",
    "pattern = '[\\S]+ |\\.\\.\\.|[\\W\\d]+\\.[\\d]+'\n",
    "nltk.regexp_tokenize(text, pattern)"
   ]
  }
 ],
 "metadata": {
  "kernelspec": {
   "display_name": "Python 3",
   "language": "python",
   "name": "python3"
  },
  "language_info": {
   "codemirror_mode": {
    "name": "ipython",
    "version": 3
   },
   "file_extension": ".py",
   "mimetype": "text/x-python",
   "name": "python",
   "nbconvert_exporter": "python",
   "pygments_lexer": "ipython3",
   "version": "3.7.1"
  }
 },
 "nbformat": 4,
 "nbformat_minor": 2
}
