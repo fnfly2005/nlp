{
 "cells": [
  {
   "cell_type": "markdown",
   "metadata": {},
   "source": [
    "# 网络连接\n",
    "python urllib.request u.urlopen()  \n",
    "python http.client.HTTPResponse h.read()  \n",
    "python http.client.HTTPResponse h.getheaders()"
   ]
  },
  {
   "cell_type": "code",
   "execution_count": null,
   "metadata": {},
   "outputs": [],
   "source": [
    "from urllib.request import urlopen\n",
    "\n",
    "html = urlopen(\"http://pythonscraping.com/pages/page1.html\")#urlopen(string) 成功后返回一个http.client.HTTPResponse实例\n",
    "print(html.getheaders())#获取http头信息\n",
    "html_bytes = html.read()#获取http信息,返回bytes对象\n",
    "html_bytes"
   ]
  },
  {
   "cell_type": "markdown",
   "metadata": {},
   "source": [
    "# 运行BeautifulSoup\n",
    "beautifulsoup4 BeautifulSoup BeautifulSoup()  \n",
    "beautifulsoup4 BeautifulSoup Tag对象"
   ]
  },
  {
   "cell_type": "code",
   "execution_count": null,
   "metadata": {},
   "outputs": [],
   "source": [
    "from bs4 import BeautifulSoup\n",
    "bsObj = BeautifulSoup(html_bytes)\n",
    "print(bsObj.h1)\n",
    "print(\"-\"*20)\n",
    "print(bsObj.html.body.h1)"
   ]
  },
  {
   "attachments": {},
   "cell_type": "markdown",
   "metadata": {},
   "source": [
    "# 可靠的网络连接\n",
    "python urllib.error HTTPError  \n",
    "python 内置异常 AttributeError"
   ]
  },
  {
   "cell_type": "code",
   "execution_count": null,
   "metadata": {},
   "outputs": [],
   "source": [
    "#第一种异常，程序会返回HTTP错误，一般是404 page Not Found，500 Internal Server Error ,urlopen会抛出HTTPError异常\n",
    "#第二种异常，比如服务器不存在，urlopen()会返回一个None对象\n",
    "try:    \n",
    "    html =urlopen(\"http://pythonscraping.com/pages/page1.html\")   \n",
    "except HTTPError as e: #This is usually a string explaining the reason for this error\n",
    "    print(e)\n",
    "    # 返回空值，中断程序，或者执行另一个方案\n",
    "if html is None:\n",
    "    print(\"URL is not found\")\n",
    "else:\n",
    "    pass"
   ]
  },
  {
   "cell_type": "code",
   "execution_count": null,
   "metadata": {},
   "outputs": [],
   "source": [
    "#如果想要调用的标签不存在，BeautifulSoup会返回None对象，再调用这个None对象下面的子标签，就会发生AttributeError\n",
    "try:\n",
    "    badContent = bsObj.nonExistingTag.anotherTag\n",
    "except AttributeError as e:\n",
    "    print(\"Tag was not found\")\n",
    "else:\n",
    "    if badContent == None:\n",
    "        print(\"Tag was not found\")\n",
    "    else:\n",
    "        print(badContent)"
   ]
  },
  {
   "cell_type": "code",
   "execution_count": null,
   "metadata": {},
   "outputs": [],
   "source": [
    "from urllib.request import urlopen\n",
    "from urllib.error import HTTPError\n",
    "from bs4 import BeautifulSoup\n",
    "def getTitle(url):\n",
    "    try:\n",
    "        html = urlopen(url)\n",
    "    except HTTPError as e:\n",
    "        return None\n",
    "    try:\n",
    "        bsObj = BeautifulSoup(html.read())\n",
    "        title = bsObj.body.h1\n",
    "    except AttributeError as e:\n",
    "        return None\n",
    "    return title\n",
    "title = getTitle(\"http://pythonscraping.com/pages/page1.html\")\n",
    "if title == None:\n",
    "    print(\"Title could not be found\")\n",
    "else:\n",
    "    print(title)"
   ]
  }
 ],
 "metadata": {
  "kernelspec": {
   "display_name": "Python 3",
   "language": "python",
   "name": "python3"
  },
  "language_info": {
   "codemirror_mode": {
    "name": "ipython",
    "version": 3
   },
   "file_extension": ".py",
   "mimetype": "text/x-python",
   "name": "python",
   "nbconvert_exporter": "python",
   "pygments_lexer": "ipython3",
   "version": "3.7.1"
  }
 },
 "nbformat": 4,
 "nbformat_minor": 2
}
