{
 "cells": [
  {
   "cell_type": "markdown",
   "metadata": {},
   "source": [
    "# 网络连接"
   ]
  },
  {
   "cell_type": "code",
   "execution_count": 11,
   "metadata": {},
   "outputs": [
    {
     "name": "stdout",
     "output_type": "stream",
     "text": [
      "b'<html>\\n'\n",
      "[('Date', 'Wed, 11 Sep 2019 11:04:34 GMT'), ('Server', 'Apache'), ('Last-Modified', 'Sat, 09 Jun 2018 19:15:58 GMT'), ('ETag', '\"4121bc8-234-56e3a58b39172\"'), ('Accept-Ranges', 'bytes'), ('Content-Length', '564'), ('Cache-Control', 'max-age=1209600'), ('Expires', 'Wed, 25 Sep 2019 11:04:34 GMT'), ('Connection', 'close'), ('Content-Type', 'text/html')]\n",
      "http://pythonscraping.com/pages/page1.html\n"
     ]
    }
   ],
   "source": [
    "from urllib.request import urlopen\n",
    "#urlopen(string) 成功后返回一个http.client.HTTPResponse实例\n",
    "html = urlopen(\"http://pythonscraping.com/pages/page1.html\")\n",
    "print(html.readline())#分行读取http信息体\n",
    "print(html.getheaders())#获取http头信息\n",
    "print(html.geturl())#获取其url对象"
   ]
  }
 ],
 "metadata": {
  "kernelspec": {
   "display_name": "Python 3",
   "language": "python",
   "name": "python3"
  },
  "language_info": {
   "codemirror_mode": {
    "name": "ipython",
    "version": 3
   },
   "file_extension": ".py",
   "mimetype": "text/x-python",
   "name": "python",
   "nbconvert_exporter": "python",
   "pygments_lexer": "ipython3",
   "version": "3.7.1"
  }
 },
 "nbformat": 4,
 "nbformat_minor": 2
}
