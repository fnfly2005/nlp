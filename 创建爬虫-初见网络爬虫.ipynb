{
 "cells": [
  {
   "cell_type": "markdown",
   "metadata": {},
   "source": [
    "# 网络连接\n",
    "python urllib.request u.urlopen()  \n",
    "python http.client.HTTPResponse h.read()  \n",
    "python http.client.HTTPResponse h.getheaders()"
   ]
  },
  {
   "cell_type": "code",
   "execution_count": null,
   "metadata": {},
   "outputs": [],
   "source": [
    "from urllib.request import urlopen\n",
    "\n",
    "html = urlopen(\"http://pythonscraping.com/pages/page1.html\")#urlopen(string) 成功后返回一个http.client.HTTPResponse实例\n",
    "print(html.getheaders())#获取http头信息\n",
    "html_bytes = html.read()#获取http信息,返回bytes对象\n",
    "html_bytes"
   ]
  },
  {
   "cell_type": "markdown",
   "metadata": {},
   "source": [
    "# 运行BeautifulSoup\n",
    "beautifulsoup4 BeautifulSoup BeautifulSoup()  \n",
    "beautifulsoup4 BeautifulSoup Tag对象"
   ]
  },
  {
   "cell_type": "code",
   "execution_count": null,
   "metadata": {},
   "outputs": [],
   "source": [
    "from bs4 import BeautifulSoup\n",
    "bsObj = BeautifulSoup(html_bytes)\n",
    "print(bsObj.h1)"
   ]
  }
 ],
 "metadata": {
  "kernelspec": {
   "display_name": "Python 3",
   "language": "python",
   "name": "python3"
  },
  "language_info": {
   "codemirror_mode": {
    "name": "ipython",
    "version": 3
   },
   "file_extension": ".py",
   "mimetype": "text/x-python",
   "name": "python",
   "nbconvert_exporter": "python",
   "pygments_lexer": "ipython3",
   "version": "3.7.1"
  }
 },
 "nbformat": 4,
 "nbformat_minor": 2
}
